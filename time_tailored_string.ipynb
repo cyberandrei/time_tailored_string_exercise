{
 "cells": [
  {
   "cell_type": "code",
   "execution_count": 1,
   "metadata": {},
   "outputs": [],
   "source": [
    "string_example=\"all I did today; i 20m, 35m, 2.5h, 2h40m v 40m 35m 1.2h e 30, 60m  \""
   ]
  },
  {
   "cell_type": "code",
   "execution_count": 2,
   "metadata": {},
   "outputs": [
    {
     "data": {
      "text/plain": [
       "['all I did today', ' i 20m, 35m, 2.5h, 2h40m v 40m 35m 1.2h e 30, 60m  ']"
      ]
     },
     "execution_count": 2,
     "metadata": {},
     "output_type": "execute_result"
    }
   ],
   "source": [
    "string_example.split(\";\")"
   ]
  },
  {
   "cell_type": "code",
   "execution_count": 3,
   "metadata": {},
   "outputs": [
    {
     "data": {
      "text/plain": [
       "' i 20m, 35m, 2.5h, 2h40m v 40m 35m 1.2h e 30, 60m  '"
      ]
     },
     "execution_count": 3,
     "metadata": {},
     "output_type": "execute_result"
    }
   ],
   "source": [
    "string_example.split(\";\")[1]"
   ]
  },
  {
   "cell_type": "code",
   "execution_count": 4,
   "metadata": {},
   "outputs": [
    {
     "data": {
      "text/plain": [
       "['',\n",
       " 'i',\n",
       " '20m',\n",
       " '35m',\n",
       " '2.5h',\n",
       " '2h40m',\n",
       " 'v',\n",
       " '40m',\n",
       " '35m',\n",
       " '1.2h',\n",
       " 'e',\n",
       " '30',\n",
       " '60m',\n",
       " '',\n",
       " '']"
      ]
     },
     "execution_count": 4,
     "metadata": {},
     "output_type": "execute_result"
    }
   ],
   "source": [
    "import re\n",
    "\n",
    "tokens = re.split(',\\s*|[,\\s]', string_example.split(\";\")[1])\n",
    "tokens"
   ]
  },
  {
   "cell_type": "code",
   "execution_count": 5,
   "metadata": {},
   "outputs": [
    {
     "data": {
      "text/plain": [
       "['20m', '35m', '2.5h', '2h40m', '40m', '35m', '1.2h', '30', '60m']"
      ]
     },
     "execution_count": 5,
     "metadata": {},
     "output_type": "execute_result"
    }
   ],
   "source": [
    "tokens_with_numbers = [x for x in tokens if any(c.isdigit() for c in x)]\n",
    "tokens_with_numbers"
   ]
  },
  {
   "cell_type": "code",
   "execution_count": 6,
   "metadata": {},
   "outputs": [
    {
     "name": "stdout",
     "output_type": "stream",
     "text": [
      "20m\n",
      "35m\n",
      "2.5h\n",
      "2h40m\n",
      "40m\n",
      "35m\n",
      "1.2h\n",
      "30\n",
      "60m\n"
     ]
    }
   ],
   "source": [
    "for token in tokens_with_numbers:\n",
    "    print (token)"
   ]
  },
  {
   "cell_type": "code",
   "execution_count": 7,
   "metadata": {},
   "outputs": [
    {
     "name": "stdout",
     "output_type": "stream",
     "text": [
      "token: '20m' \t hours: 0 \t minutes: 20\n",
      "token: '35m' \t hours: 0 \t minutes: 35\n",
      "token: '2.5h' \t hours: 2.5 \t minutes: 0\n",
      "token: '2h40m' \t hours: 2 \t minutes: 40\n",
      "token: '40m' \t hours: 0 \t minutes: 40\n",
      "token: '35m' \t hours: 0 \t minutes: 35\n",
      "token: '1.2h' \t hours: 1.2 \t minutes: 0\n",
      "token: '30' \t hours: 0 \t minutes: 30\n",
      "token: '60m' \t hours: 0 \t minutes: 60\n"
     ]
    }
   ],
   "source": [
    "import re\n",
    "\n",
    "for token in tokens_with_numbers:\n",
    "    if ('h'in token) or ('m'in token):\n",
    "        matched_hours = re.search(r'[\\d.]+($|(?=[h]))', token)\n",
    "        if matched_hours is not None:\n",
    "            hours = matched_hours.group(0)\n",
    "        else:\n",
    "            hours = 0\n",
    "\n",
    "        matched_minutes = re.search(r'[\\d]+($|(?=[m]))', token)\n",
    "        if matched_minutes is not None:\n",
    "            minutes = matched_minutes.group(0)\n",
    "        else:\n",
    "            minutes = 0\n",
    "    else:\n",
    "        minutes = re.search(r'\\d+', token).group(0)\n",
    "        hours = 0\n",
    "    \n",
    "    print(\"token: '{}' \\t hours: {} \\t minutes: {}\".format(token, hours, minutes))\n",
    "    "
   ]
  },
  {
   "cell_type": "code",
   "execution_count": 8,
   "metadata": {},
   "outputs": [
    {
     "name": "stdout",
     "output_type": "stream",
     "text": [
      "token: '20m' \t hours: 0 \t minutes: 20\n",
      "token: '35m' \t hours: 0 \t minutes: 35\n",
      "token: '2.5h' \t hours: 2.5 \t minutes: 0\n",
      "token: '2h40m' \t hours: 2 \t minutes: 40\n",
      "token: '40m' \t hours: 0 \t minutes: 40\n",
      "token: '35m' \t hours: 0 \t minutes: 35\n",
      "token: '1.2h' \t hours: 1.2 \t minutes: 0\n",
      "token: '30' \t hours: 0 \t minutes: 30\n",
      "token: '60m' \t hours: 0 \t minutes: 60\n",
      "total_minutes: 602\n"
     ]
    }
   ],
   "source": [
    "import re\n",
    "from math import ceil\n",
    "from decimal import Decimal\n",
    "\n",
    "total_minutes = Decimal(0)\n",
    "\n",
    "for token in tokens_with_numbers:\n",
    "    if ('h'in token) or ('m'in token):\n",
    "        matched_hours = re.search(r'[\\d.]+($|(?=[h]))', token)\n",
    "        if matched_hours is not None:\n",
    "            hours = matched_hours.group(0)\n",
    "        else:\n",
    "            hours = Decimal(0)\n",
    "        matched_minutes = re.search(r'[\\d]+($|(?=[m]))', token)\n",
    "        if matched_minutes is not None:\n",
    "            minutes = matched_minutes.group(0)\n",
    "        else:\n",
    "            minutes = Decimal(0)\n",
    "    else:\n",
    "        minutes = re.search(r'\\d+', token).group(0)\n",
    "        hours = Decimal(0)\n",
    "    print(\"token: '{}' \\t hours: {} \\t minutes: {}\".format(token, hours, minutes))\n",
    "    total_minutes += Decimal(hours)*60 + Decimal(minutes)\n",
    "    \n",
    "print(\"total_minutes: {}\".format(ceil(total_minutes)))"
   ]
  },
  {
   "cell_type": "code",
   "execution_count": 9,
   "metadata": {},
   "outputs": [
    {
     "data": {
      "text/plain": [
       "602"
      ]
     },
     "execution_count": 9,
     "metadata": {},
     "output_type": "execute_result"
    }
   ],
   "source": [
    "import re\n",
    "from math import ceil\n",
    "from decimal import Decimal\n",
    "\n",
    "def calculate_total_minutes_in(time_tailored_string=string_example):\n",
    "    tokens = re.split(',\\s*|[,\\s]', time_tailored_string.split(\";\")[1])\n",
    "    tokens_with_numbers = [x for x in tokens if any(c.isdigit() for c in x)]\n",
    "    total_minutes = Decimal(0)\n",
    "    for token in tokens_with_numbers:\n",
    "        if ('h'in token) or ('m'in token):\n",
    "            matched_hours = re.search(r'[\\d.]+($|(?=[h]))', token)\n",
    "            if matched_hours is not None:\n",
    "                hours = matched_hours.group(0)\n",
    "            else:\n",
    "                hours = Decimal(0)\n",
    "            matched_minutes = re.search(r'[\\d]+($|(?=[m]))', token)\n",
    "            if matched_minutes is not None:\n",
    "                minutes = matched_minutes.group(0)\n",
    "            else:\n",
    "                minutes = Decimal(0)\n",
    "        else:\n",
    "            minutes = re.search(r'\\d+', token).group(0)\n",
    "            hours = Decimal(0)\n",
    "        total_minutes += Decimal(hours)*60 + Decimal(minutes)\n",
    "    return ceil(total_minutes)\n",
    "\n",
    "result=calculate_total_minutes_in(time_tailored_string=string_example)\n",
    "result"
   ]
  },
  {
   "cell_type": "markdown",
   "metadata": {},
   "source": [
    "Let's consider the follwoing case. So \";\" character do not exist becasue of there is no any time entries at all"
   ]
  },
  {
   "cell_type": "code",
   "execution_count": 11,
   "metadata": {},
   "outputs": [
    {
     "data": {
      "text/plain": [
       "0"
      ]
     },
     "execution_count": 11,
     "metadata": {},
     "output_type": "execute_result"
    }
   ],
   "source": [
    "import re\n",
    "from math import ceil\n",
    "from decimal import Decimal\n",
    "\n",
    "string_example=\"all I did today;\"\n",
    "\n",
    "def calculate_total_minutes_in(time_tailored_string=string_example):\n",
    "    total_minutes = Decimal(0)\n",
    "    if ';' not in time_tailored_string:\n",
    "        return total_minutes  \n",
    "    else: \n",
    "        tokens = re.split(',\\s*|[,\\s]', time_tailored_string.split(\";\")[1])\n",
    "        tokens_with_numbers = [x for x in tokens if any(c.isdigit() for c in x)]\n",
    "\n",
    "        for token in tokens_with_numbers:\n",
    "            if ('h'in token) or ('m'in token):\n",
    "                matched_hours = re.search(r'[\\d.]+($|(?=[h]))', token)\n",
    "                if matched_hours is not None:\n",
    "                    hours = matched_hours.group(0)\n",
    "                else:\n",
    "                    hours = Decimal(0)\n",
    "                matched_minutes = re.search(r'[\\d]+($|(?=[m]))', token)\n",
    "                if matched_minutes is not None:\n",
    "                    minutes = matched_minutes.group(0)\n",
    "                else:\n",
    "                    minutes = Decimal(0)\n",
    "            else:\n",
    "                minutes = re.search(r'\\d+', token).group(0)\n",
    "                hours = Decimal(0)\n",
    "            total_minutes += Decimal(hours)*60 + Decimal(minutes)\n",
    "        return ceil(total_minutes)\n",
    "\n",
    "result=calculate_total_minutes_in(time_tailored_string=string_example)\n",
    "result"
   ]
  },
  {
   "cell_type": "code",
   "execution_count": null,
   "metadata": {},
   "outputs": [],
   "source": []
  },
  {
   "cell_type": "code",
   "execution_count": null,
   "metadata": {},
   "outputs": [],
   "source": []
  }
 ],
 "metadata": {
  "kernelspec": {
   "display_name": "Python 3",
   "language": "python",
   "name": "python3"
  },
  "language_info": {
   "codemirror_mode": {
    "name": "ipython",
    "version": 3
   },
   "file_extension": ".py",
   "mimetype": "text/x-python",
   "name": "python",
   "nbconvert_exporter": "python",
   "pygments_lexer": "ipython3",
   "version": "3.7.3"
  }
 },
 "nbformat": 4,
 "nbformat_minor": 2
}
